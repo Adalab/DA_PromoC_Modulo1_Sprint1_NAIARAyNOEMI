{
 "cells": [
  {
   "cell_type": "markdown",
   "metadata": {},
   "source": [
    "##PAIR PROGRAMMING 4 - DICCIONARIOS"
   ]
  },
  {
   "cell_type": "markdown",
   "metadata": {},
   "source": [
    "1 - Nuestro diccionario estará compuesto por cuatro keys y cada una de las keys tendrá un value que será una lista que iremos construyendo con inputs. "
   ]
  },
  {
   "cell_type": "code",
   "execution_count": 1,
   "metadata": {},
   "outputs": [],
   "source": [
    "datos={\"nombre\":input(\"di_tres_nombres\").split(\",\"),\"apellido\":input(\"di_tres_apellidos\").split(\",\"),\"edad\":input(\"di_tres_edades\").split(\",\"),\"hijos\":input(\"numero_hijos\").split(\",\")}\n"
   ]
  },
  {
   "cell_type": "code",
   "execution_count": 2,
   "metadata": {},
   "outputs": [
    {
     "name": "stdout",
     "output_type": "stream",
     "text": [
      "{'nombre': ['maria', ' carmen', ' luis'], 'apellido': ['gonzalez', ' garcia', ' perez'], 'edad': ['12', ' 14', ' 6'], 'hijos': ['2', ' 5', ' 8']}\n"
     ]
    }
   ],
   "source": [
    "print(datos)"
   ]
  },
  {
   "cell_type": "markdown",
   "metadata": {},
   "source": [
    "2 - Una vez tengáis creado el diccionario, añadid una nueva key donde tengamos la información sobre el número de hermanos."
   ]
  },
  {
   "cell_type": "code",
   "execution_count": 3,
   "metadata": {},
   "outputs": [],
   "source": [
    "datos.update({\"hermanos\":[4,1,5]})"
   ]
  },
  {
   "cell_type": "code",
   "execution_count": 4,
   "metadata": {},
   "outputs": [
    {
     "name": "stdout",
     "output_type": "stream",
     "text": [
      "{'nombre': ['maria', ' carmen', ' luis'], 'apellido': ['gonzalez', ' garcia', ' perez'], 'edad': ['12', ' 14', ' 6'], 'hijos': ['2', ' 5', ' 8'], 'hermanos': [4, 1, 5]}\n"
     ]
    }
   ],
   "source": [
    "print(datos)"
   ]
  },
  {
   "cell_type": "markdown",
   "metadata": {},
   "source": [
    "3 - Extraed los valores de la key nombres. Utilizad dos métodos diferentes."
   ]
  },
  {
   "cell_type": "code",
   "execution_count": 5,
   "metadata": {},
   "outputs": [
    {
     "data": {
      "text/plain": [
       "{'nombre': ['maria', ' carmen', ' luis'],\n",
       " 'apellido': ['gonzalez', ' garcia', ' perez'],\n",
       " 'edad': ['12', ' 14', ' 6'],\n",
       " 'hijos': ['2', ' 5', ' 8'],\n",
       " 'hermanos': [4, 1, 5]}"
      ]
     },
     "execution_count": 5,
     "metadata": {},
     "output_type": "execute_result"
    }
   ],
   "source": [
    "datos"
   ]
  },
  {
   "cell_type": "markdown",
   "metadata": {},
   "source": [
    "#Método 1"
   ]
  },
  {
   "cell_type": "code",
   "execution_count": 6,
   "metadata": {},
   "outputs": [
    {
     "data": {
      "text/plain": [
       "['maria', ' carmen', ' luis']"
      ]
     },
     "execution_count": 6,
     "metadata": {},
     "output_type": "execute_result"
    }
   ],
   "source": [
    "datos.get(\"nombre\")"
   ]
  },
  {
   "cell_type": "markdown",
   "metadata": {},
   "source": [
    "#Método 2"
   ]
  },
  {
   "cell_type": "code",
   "execution_count": null,
   "metadata": {},
   "outputs": [],
   "source": []
  },
  {
   "cell_type": "markdown",
   "metadata": {},
   "source": [
    "4 - Extraed los valores de la key nacionalidad. En caso de que no exista, cread esa key con el value \"desconocida\"."
   ]
  },
  {
   "cell_type": "code",
   "execution_count": 7,
   "metadata": {},
   "outputs": [
    {
     "data": {
      "text/plain": [
       "{'nombre': ['maria', ' carmen', ' luis'],\n",
       " 'apellido': ['gonzalez', ' garcia', ' perez'],\n",
       " 'edad': ['12', ' 14', ' 6'],\n",
       " 'hijos': ['2', ' 5', ' 8'],\n",
       " 'hermanos': [4, 1, 5],\n",
       " 'Nacionalidad': 'desconocida'}"
      ]
     },
     "execution_count": 7,
     "metadata": {},
     "output_type": "execute_result"
    }
   ],
   "source": [
    "datos.update({\"Nacionalidad\":\"desconocida\"})\n",
    "datos"
   ]
  },
  {
   "cell_type": "markdown",
   "metadata": {},
   "source": [
    "5 - Ordena los elementos del diccionario basandonos en las keys y los values. Esto nos devuelve una lista de tuplas(todavía no hemos visto este tipo de datos, pero lo veremos en la lección de mañana). Convertid esta lista de tuplas en diccionario."
   ]
  },
  {
   "cell_type": "code",
   "execution_count": 8,
   "metadata": {},
   "outputs": [
    {
     "data": {
      "text/plain": [
       "[('nombre', ['maria', ' carmen', ' luis']),\n",
       " ('hijos', ['2', ' 5', ' 8']),\n",
       " ('hermanos', [4, 1, 5]),\n",
       " ('edad', ['12', ' 14', ' 6']),\n",
       " ('apellido', ['gonzalez', ' garcia', ' perez']),\n",
       " ('Nacionalidad', 'desconocida')]"
      ]
     },
     "execution_count": 8,
     "metadata": {},
     "output_type": "execute_result"
    }
   ],
   "source": [
    "sorted(datos.items(),reverse = True)"
   ]
  },
  {
   "cell_type": "code",
   "execution_count": 9,
   "metadata": {},
   "outputs": [
    {
     "data": {
      "text/plain": [
       "{'nombre': ['maria', ' carmen', ' luis'],\n",
       " 'apellido': ['gonzalez', ' garcia', ' perez'],\n",
       " 'edad': ['12', ' 14', ' 6'],\n",
       " 'hijos': ['2', ' 5', ' 8'],\n",
       " 'hermanos': [4, 1, 5],\n",
       " 'Nacionalidad': 'desconocida'}"
      ]
     },
     "execution_count": 9,
     "metadata": {},
     "output_type": "execute_result"
    }
   ],
   "source": [
    "datos_dic = dict(datos)\n",
    "datos_dic"
   ]
  },
  {
   "cell_type": "markdown",
   "metadata": {},
   "source": [
    "6 - Eliminad la key de \"nacionalidad\""
   ]
  },
  {
   "cell_type": "code",
   "execution_count": 10,
   "metadata": {},
   "outputs": [
    {
     "data": {
      "text/plain": [
       "{'nombre': ['maria', ' carmen', ' luis'],\n",
       " 'apellido': ['gonzalez', ' garcia', ' perez'],\n",
       " 'edad': ['12', ' 14', ' 6'],\n",
       " 'hijos': ['2', ' 5', ' 8'],\n",
       " 'hermanos': [4, 1, 5]}"
      ]
     },
     "execution_count": 10,
     "metadata": {},
     "output_type": "execute_result"
    }
   ],
   "source": [
    "datos.pop(\"Nacionalidad\")\n",
    "datos"
   ]
  },
  {
   "cell_type": "markdown",
   "metadata": {},
   "source": [
    "7 - Utilizando métodos de Python. ¿Qué persona tiene mayor número de hijos? ¿Y quién es la más joven?"
   ]
  },
  {
   "cell_type": "code",
   "execution_count": 11,
   "metadata": {},
   "outputs": [
    {
     "data": {
      "text/plain": [
       "['2', ' 5', ' 8']"
      ]
     },
     "execution_count": 11,
     "metadata": {},
     "output_type": "execute_result"
    }
   ],
   "source": [
    "datos[\"hijos\"]"
   ]
  },
  {
   "cell_type": "code",
   "execution_count": 15,
   "metadata": {},
   "outputs": [
    {
     "data": {
      "text/plain": [
       "dict_items([('nombre', ['maria', ' carmen', ' luis']), ('apellido', ['gonzalez', ' garcia', ' perez']), ('edad', ['12', ' 14', ' 6']), ('hijos', ['2', ' 5', ' 8']), ('hermanos', [4, 1, 5])])"
      ]
     },
     "execution_count": 15,
     "metadata": {},
     "output_type": "execute_result"
    }
   ],
   "source": [
    "datos.items()"
   ]
  },
  {
   "cell_type": "code",
   "execution_count": 22,
   "metadata": {},
   "outputs": [],
   "source": [
    "#no sabemos"
   ]
  }
 ],
 "metadata": {
  "kernelspec": {
   "display_name": "Python 3.10.8 64-bit (microsoft store)",
   "language": "python",
   "name": "python3"
  },
  "language_info": {
   "codemirror_mode": {
    "name": "ipython",
    "version": 3
   },
   "file_extension": ".py",
   "mimetype": "text/x-python",
   "name": "python",
   "nbconvert_exporter": "python",
   "pygments_lexer": "ipython3",
   "version": "3.10.8"
  },
  "orig_nbformat": 4,
  "vscode": {
   "interpreter": {
    "hash": "74ce4e106c5f3fb5408a2b59926dbdd162e96cafe5f5c54fb66c999b373c7a81"
   }
  }
 },
 "nbformat": 4,
 "nbformat_minor": 2
}
