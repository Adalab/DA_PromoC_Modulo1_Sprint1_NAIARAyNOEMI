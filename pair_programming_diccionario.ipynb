{
 "cells": [
  {
   "cell_type": "code",
   "execution_count": 7,
   "metadata": {},
   "outputs": [],
   "source": [
    "datos={\"nombre\":[input(\"di_tres_nombres\")],\"apellido\":[input(\"di_tres_apellidos\")],\"edad\":[input(\"di_TRes_edades\")],\"hijos\":[input(\"numero_hijos\")]}\n"
   ]
  },
  {
   "cell_type": "code",
   "execution_count": 8,
   "metadata": {},
   "outputs": [
    {
     "name": "stdout",
     "output_type": "stream",
     "text": [
      "{'nombre': ['maria, jorge, paco'], 'apellido': ['sanz, perez, azorin'], 'edad': ['11,22,34'], 'hijos': ['0,1,4']}\n"
     ]
    }
   ],
   "source": [
    "print(datos)"
   ]
  },
  {
   "cell_type": "code",
   "execution_count": 9,
   "metadata": {},
   "outputs": [],
   "source": [
    "datos.update({\"hermanos\":[4,1,5]})"
   ]
  },
  {
   "cell_type": "code",
   "execution_count": 10,
   "metadata": {},
   "outputs": [
    {
     "name": "stdout",
     "output_type": "stream",
     "text": [
      "{'nombre': ['maria, jorge, paco'], 'apellido': ['sanz, perez, azorin'], 'edad': ['11,22,34'], 'hijos': ['0,1,4'], 'hermanos': [4, 1, 5]}\n"
     ]
    }
   ],
   "source": [
    "print(datos)"
   ]
  }
 ],
 "metadata": {
  "kernelspec": {
   "display_name": "Python 3.10.8 64-bit (microsoft store)",
   "language": "python",
   "name": "python3"
  },
  "language_info": {
   "codemirror_mode": {
    "name": "ipython",
    "version": 3
   },
   "file_extension": ".py",
   "mimetype": "text/x-python",
   "name": "python",
   "nbconvert_exporter": "python",
   "pygments_lexer": "ipython3",
   "version": "3.10.8"
  },
  "orig_nbformat": 4,
  "vscode": {
   "interpreter": {
    "hash": "1ea59b95c08c44cbfc884ec03159e00f96e4bf3b6d22daf6aa1f91dffc766d1d"
   }
  }
 },
 "nbformat": 4,
 "nbformat_minor": 2
}
