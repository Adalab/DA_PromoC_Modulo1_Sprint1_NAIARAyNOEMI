{
 "cells": [
  {
   "cell_type": "markdown",
   "metadata": {},
   "source": [
    "#PAIR PROGRAMMING 6 - SENTENCIAS DE CONTROL"
   ]
  },
  {
   "cell_type": "code",
   "execution_count": 6,
   "metadata": {},
   "outputs": [],
   "source": [
    "#1 - El objetivo de este ejercicio es que le preguntéis al usuario por una nota (numérica)\n",
    "#y nosotros le devolvamos la nota con la letra que le corresponde.\n"
   ]
  },
  {
   "cell_type": "code",
   "execution_count": 7,
   "metadata": {},
   "outputs": [],
   "source": [
    "notas = int(input(\"¿Qué nota has sacado?\"))"
   ]
  },
  {
   "cell_type": "code",
   "execution_count": 8,
   "metadata": {},
   "outputs": [
    {
     "name": "stdout",
     "output_type": "stream",
     "text": [
      "B\n"
     ]
    }
   ],
   "source": [
    "if notas < 25:\n",
    "    print(\"F\")\n",
    "elif notas >= 25 and notas < 45:\n",
    "    print(\"E\")\n",
    "elif notas >= 45 and notas < 50:\n",
    "    print(\"D\")\n",
    "elif notas >= 50 and notas < 60:\n",
    "    print(\"C\")\n",
    "elif notas >= 60 and notas < 80:\n",
    "    print(\"B\")\n",
    "else:\n",
    "    print(\"A\")"
   ]
  },
  {
   "cell_type": "code",
   "execution_count": 9,
   "metadata": {},
   "outputs": [],
   "source": [
    "#2 - Cread tres inputs donde a cada uno de ellos le preguntéis su edad,\n",
    "#el objetivo del ejercicio es determinar quien es el más viejo y el más joven."
   ]
  },
  {
   "cell_type": "code",
   "execution_count": 10,
   "metadata": {},
   "outputs": [],
   "source": [
    "Maria = int(input(\"¿Cuántos años tienes?\"))\n",
    "Pepe = int(input(\"¿Qué edad tienes?\"))\n",
    "Kike = int(input(\"Dime tu edad\"))"
   ]
  },
  {
   "cell_type": "code",
   "execution_count": 11,
   "metadata": {},
   "outputs": [
    {
     "name": "stdout",
     "output_type": "stream",
     "text": [
      "34\n",
      "18\n",
      "7\n"
     ]
    }
   ],
   "source": [
    "print(Maria)\n",
    "print(Pepe)\n",
    "print(Kike)"
   ]
  },
  {
   "cell_type": "code",
   "execution_count": 13,
   "metadata": {},
   "outputs": [
    {
     "name": "stdout",
     "output_type": "stream",
     "text": [
      "Maria es la más mayor\n"
     ]
    }
   ],
   "source": [
    "if Maria > Pepe and Maria > Kike:\n",
    "    print(\"Maria es la más mayor\")\n",
    "elif Kike < Pepe and Kike < Maria:\n",
    "    print(\"Kike es el más pequeño\")\n",
    "elif Pepe > Maria and Pepe > Kike:\n",
    "    print(\"Pepe es el más mayor\")\n",
    "elif Kike > Pepe and Kike > Maria:\n",
    "    print(\"Kike es el más mayor\")\n",
    "elif Maria < Pepe and Maria < Kike:\n",
    "    print(\"Maria es la pequeña\")\n",
    "elif Pepe < Maria and Pepe < Kike:\n",
    "    print(\"Pepe es el más pequeño\")\n"
   ]
  },
  {
   "cell_type": "code",
   "execution_count": null,
   "metadata": {},
   "outputs": [],
   "source": [
    "#3 - Escribid un programa que pregunte el nombre del usuario a través de la función input(). \n",
    "# Si el nombre es \"Bond\" haced que imprima \"Bienvenido a bordo de 007\". \n",
    "# En caso contrario haced que imprima \"Buenos días NOMBRE\". (Reemplace NOMBRE por el nombre del usuario)."
   ]
  },
  {
   "cell_type": "code",
   "execution_count": 16,
   "metadata": {},
   "outputs": [],
   "source": [
    "nombre = input(\"Dígame su nombre, pasajero\")"
   ]
  },
  {
   "cell_type": "code",
   "execution_count": 17,
   "metadata": {},
   "outputs": [
    {
     "name": "stdout",
     "output_type": "stream",
     "text": [
      "Buenos días Paco\n"
     ]
    }
   ],
   "source": [
    "if nombre == \"Bond\":\n",
    "    print(\"Bienvenido a bordo de 007\")\n",
    "else:\n",
    "    print(\"Buenos días\", nombre)"
   ]
  },
  {
   "cell_type": "code",
   "execution_count": 5,
   "metadata": {},
   "outputs": [],
   "source": [
    "#4 - Crea una lista llamada \"masarboles\" que contenga el nombre de los países con más de 40.000 árboles por kilómetro cuadrado.\n",
    "\n",
    "tree = {\"Taiwan\": 69593,\n",
    "        \"Japan\": 49894, \n",
    "        \"Russia\": 41396, \n",
    "        \"Canada\": 36388, \n",
    "        \"Bulgaria\": 24987}"
   ]
  },
  {
   "cell_type": "code",
   "execution_count": 29,
   "metadata": {},
   "outputs": [
    {
     "data": {
      "text/plain": [
       "dict_items([('Taiwan', 69593), ('Japan', 49894), ('Russia', 41396), ('Canada', 36388), ('Bulgaria', 24987)])"
      ]
     },
     "execution_count": 29,
     "metadata": {},
     "output_type": "execute_result"
    }
   ],
   "source": [
    "tree.items()"
   ]
  },
  {
   "cell_type": "code",
   "execution_count": 30,
   "metadata": {},
   "outputs": [
    {
     "ename": "TypeError",
     "evalue": "dict.keys() takes no arguments (1 given)",
     "output_type": "error",
     "traceback": [
      "\u001b[1;31m---------------------------------------------------------------------------\u001b[0m",
      "\u001b[1;31mTypeError\u001b[0m                                 Traceback (most recent call last)",
      "Cell \u001b[1;32mIn [30], line 1\u001b[0m\n\u001b[1;32m----> 1\u001b[0m \u001b[39mif\u001b[39;00m tree\u001b[39m.\u001b[39;49mkeys(\u001b[39m\"\u001b[39;49m\u001b[39mTaiwan\u001b[39;49m\u001b[39m\"\u001b[39;49m) \u001b[39m>\u001b[39m \u001b[39m40000\u001b[39m:\n\u001b[0;32m      2\u001b[0m     \u001b[39mprint\u001b[39m(tree\u001b[39m.\u001b[39mvalues())\n",
      "\u001b[1;31mTypeError\u001b[0m: dict.keys() takes no arguments (1 given)"
     ]
    }
   ],
   "source": [
    "if tree.keys(\"Taiwan\") > 40000:\n",
    "    print(tree.values())"
   ]
  },
  {
   "cell_type": "markdown",
   "metadata": {},
   "source": [
    "No logramos resolver este ejercicio."
   ]
  },
  {
   "cell_type": "code",
   "execution_count": 30,
   "metadata": {},
   "outputs": [],
   "source": [
    "#5 - Los alumnos de un curso se han dividido en dos grupos A y B de acuerdo al sexo y el nombre.\n",
    "#El grupo A esta formado por las mujeres con un nombre anterior a la M y los hombres con un nombre posterior a la N y el grupo B por el resto.\n",
    "# scribid un programa que pregunte al usuario su nombre y sexo, y muestre por pantalla el grupo que le corresponde.\n",
    "\n",
    "nombre = list(input(\"Dime tu nombre\"))\n",
    "sexo = input(\"Dime tu sexo\")\n"
   ]
  },
  {
   "cell_type": "code",
   "execution_count": 28,
   "metadata": {},
   "outputs": [
    {
     "data": {
      "text/plain": [
       "['m', 'a', 'r', 'i', 'a']"
      ]
     },
     "execution_count": 28,
     "metadata": {},
     "output_type": "execute_result"
    }
   ],
   "source": [
    "nombre"
   ]
  },
  {
   "cell_type": "code",
   "execution_count": 29,
   "metadata": {},
   "outputs": [
    {
     "data": {
      "text/plain": [
       "'mujer'"
      ]
     },
     "execution_count": 29,
     "metadata": {},
     "output_type": "execute_result"
    }
   ],
   "source": [
    "sexo"
   ]
  },
  {
   "cell_type": "code",
   "execution_count": 31,
   "metadata": {},
   "outputs": [
    {
     "name": "stdout",
     "output_type": "stream",
     "text": [
      "Pertenece al grupo B\n"
     ]
    }
   ],
   "source": [
    "if nombre[0] <= \"m\" and sexo == \"mujer\":\n",
    "    print(\"Pertenece al grupo A\")\n",
    "elif nombre[0] >= \"n\" and sexo == \"hombre\":\n",
    "    print(\"Pertenece al grupo A\")\n",
    "else:\n",
    "    print(\"Pertenece al grupo B\")"
   ]
  },
  {
   "cell_type": "code",
   "execution_count": 8,
   "metadata": {},
   "outputs": [],
   "source": [
    "#6 - Escribid un programa. Usad las condiciones dadas."
   ]
  },
  {
   "cell_type": "code",
   "execution_count": 1,
   "metadata": {},
   "outputs": [],
   "source": [
    "lista_aux = []\n",
    "z = 0"
   ]
  },
  {
   "cell_type": "code",
   "execution_count": 1,
   "metadata": {},
   "outputs": [
    {
     "ename": "NameError",
     "evalue": "name 'z' is not defined",
     "output_type": "error",
     "traceback": [
      "\u001b[1;31m---------------------------------------------------------------------------\u001b[0m",
      "\u001b[1;31mNameError\u001b[0m                                 Traceback (most recent call last)",
      "Cell \u001b[1;32mIn [1], line 1\u001b[0m\n\u001b[1;32m----> 1\u001b[0m \u001b[39mwhile\u001b[39;00m z \u001b[39m<\u001b[39m \u001b[39m3\u001b[39m:\n\u001b[0;32m      2\u001b[0m     \u001b[39mif\u001b[39;00m z \u001b[39m==\u001b[39m \u001b[39m0\u001b[39m:\n\u001b[0;32m      3\u001b[0m         resultado \u001b[39m=\u001b[39m z \u001b[39m+\u001b[39m \u001b[39m1\u001b[39m\n",
      "\u001b[1;31mNameError\u001b[0m: name 'z' is not defined"
     ]
    }
   ],
   "source": [
    "while z < 3:\n",
    "    if z == 0:\n",
    "        resultado = z + 1\n",
    "        lista_aux.append(resultado)\n",
    "    print(lista_aux)\n",
    "    if z == 1:\n",
    "        resultado1 = resultado + (z + 1)\n",
    "        lista_aux.append(resultado1)\n",
    "    print(lista_aux)\n",
    "else:\n",
    "        print(z)\n",
    "        resultado2 = z + 1\n"
   ]
  },
  {
   "cell_type": "markdown",
   "metadata": {},
   "source": [
    "No hemos logrado obtener una solución a este ejercicio."
   ]
  },
  {
   "cell_type": "code",
   "execution_count": null,
   "metadata": {},
   "outputs": [],
   "source": [
    "# 7 -El objetivo de este ejercicio es añadir elementos a una lista utilizando el bucle while:"
   ]
  },
  {
   "cell_type": "code",
   "execution_count": 158,
   "metadata": {},
   "outputs": [],
   "source": [
    "lista_vacia = []\n",
    "valor = 0"
   ]
  },
  {
   "cell_type": "code",
   "execution_count": 159,
   "metadata": {},
   "outputs": [
    {
     "name": "stdout",
     "output_type": "stream",
     "text": [
      "[1]\n",
      "[1, 2]\n",
      "[1, 2, 3]\n",
      "[1, 2, 3, 4]\n"
     ]
    }
   ],
   "source": [
    "while len(lista_vacia) < 4 :\n",
    "    valor = valor + 1\n",
    "    lista_vacia.append(valor)\n",
    "    print(lista_vacia)\n",
    "    "
   ]
  },
  {
   "cell_type": "code",
   "execution_count": 43,
   "metadata": {},
   "outputs": [],
   "source": [
    "#8 - El objetivo de este ejercicio es encontrar la suma de números en una lista usando el bucle while:"
   ]
  },
  {
   "cell_type": "code",
   "execution_count": 154,
   "metadata": {},
   "outputs": [
    {
     "name": "stdout",
     "output_type": "stream",
     "text": [
      "68\n",
      "57\n",
      "22\n",
      "35\n"
     ]
    },
    {
     "ename": "IndexError",
     "evalue": "list index out of range",
     "output_type": "error",
     "traceback": [
      "\u001b[1;31m---------------------------------------------------------------------------\u001b[0m",
      "\u001b[1;31mIndexError\u001b[0m                                Traceback (most recent call last)",
      "Cell \u001b[1;32mIn [154], line 6\u001b[0m\n\u001b[0;32m      3\u001b[0m suma \u001b[39m=\u001b[39m \u001b[39m0\u001b[39m\n\u001b[0;32m      5\u001b[0m \u001b[39mwhile\u001b[39;00m i \u001b[39m<\u001b[39m \u001b[39mlen\u001b[39m(lista):\n\u001b[1;32m----> 6\u001b[0m     resultado \u001b[39m=\u001b[39m lista[i] \u001b[39m+\u001b[39m lista[i \u001b[39m+\u001b[39;49m \u001b[39m1\u001b[39;49m]\n\u001b[0;32m      7\u001b[0m     \u001b[39mprint\u001b[39m(resultado)\n\u001b[0;32m      8\u001b[0m     i \u001b[39m+\u001b[39m\u001b[39m=\u001b[39m \u001b[39m1\u001b[39m\n",
      "\u001b[1;31mIndexError\u001b[0m: list index out of range"
     ]
    }
   ],
   "source": [
    "i = 0\n",
    "lista = [23, 45, 12, 10, 25]\n",
    "suma = 0\n",
    "\n",
    "while i < len(lista):\n",
    "    resultado = lista[i] + lista[i + 1]\n",
    "    print(resultado)\n",
    "    i += 1\n",
    "\n",
    "\n"
   ]
  },
  {
   "cell_type": "markdown",
   "metadata": {},
   "source": [
    "No conseguimos el resultado requerido en el ejercicio."
   ]
  },
  {
   "cell_type": "code",
   "execution_count": 9,
   "metadata": {},
   "outputs": [],
   "source": [
    "#9 - El programa debe preguntar al usuario la edad del cliente y mostrar el precio de la entrada. \n",
    "#Si el cliente es menor de 4 años puede entrar gratis, si tiene entre 4 y 18 años debe pagar 5€ y si es mayor de 18 años, 10€."
   ]
  },
  {
   "cell_type": "code",
   "execution_count": 39,
   "metadata": {},
   "outputs": [],
   "source": [
    "edad_cliente = int(input(\"Cuántos años tienes?\"))"
   ]
  },
  {
   "cell_type": "code",
   "execution_count": 28,
   "metadata": {},
   "outputs": [],
   "source": [
    "precio_entrada = 0"
   ]
  },
  {
   "cell_type": "code",
   "execution_count": 41,
   "metadata": {},
   "outputs": [
    {
     "name": "stdout",
     "output_type": "stream",
     "text": [
      "Debes pagar el precio de la entrada que es de 5 euros\n"
     ]
    }
   ],
   "source": [
    "if edad_cliente < 4:\n",
    "    print(\"Puedes entrar gratis\")\n",
    "elif edad_cliente >= 4 and edad_cliente < 18:\n",
    "    print(\"Debes pagar el precio de la entrada que es de\", precio_entrada + 5, \"euros\")\n",
    "else:\n",
    "    print(\"El precio de tu entrada es de\", precio_entrada + 10, \"euros\")\n"
   ]
  },
  {
   "cell_type": "code",
   "execution_count": 42,
   "metadata": {},
   "outputs": [],
   "source": [
    "#10 - Escribid un programa que pregunte al usuario si quiere una pizza vegetariana o no, \n",
    "#y en función de su respuesta le muestre un menú con los ingredientes disponibles para que elija. \n",
    "# Solo se puede eligir un ingrediente además de la mozzarella y el tomate que están en todas la pizzas. \n",
    "#Al final se debe mostrar por pantalla si la pizza elegida es vegetariana o no y todos los ingredientes que lleva.\n"
   ]
  },
  {
   "cell_type": "code",
   "execution_count": 100,
   "metadata": {},
   "outputs": [
    {
     "name": "stdout",
     "output_type": "stream",
     "text": [
      "Es muy sencillo: solo elige si quieres una pizza vegetariana o no. Gracias\n"
     ]
    }
   ],
   "source": [
    "vegetariana = [\"pimiento\", \"tofu\", \"manzana\"]\n",
    "no_vegetariana = [\"peperoni\", \"jamón\", \"salmón\"]\n",
    "menu_ingredientes = [\"mozzarella\", \" tomate\"]\n",
    "\n",
    "cliente = input(\"¿Desea una pizza vegetariana o no vegetariana?\")\n",
    "\n",
    "if cliente == \"vegetariana\":\n",
    "    extra = input(\"¿Añadimos algún ingrediente más?\")\n",
    "    menu_ingredientes.append(extra)\n",
    "    menu_ingredientes = menu_ingredientes + vegetariana\n",
    "    print(f\"Tu pizza es {cliente} y lleva los siguientes ingredientes\",menu_ingredientes)\n",
    "elif cliente == \"no vegetariana\":\n",
    "    extra1 = input(\"¿Añadimos algún ingrediente más?\")\n",
    "    menu_ingredientes.append(extra1)\n",
    "    menu_ingredientes = menu_ingredientes + no_vegetariana\n",
    "    print(f\"Tu pizza es {cliente} y lleva los siguientes ingredientes\",menu_ingredientes)\n",
    "else:\n",
    "    print(\"Es muy sencillo: solo elige si quieres una pizza vegetariana o no. Gracias\")"
   ]
  }
 ],
 "metadata": {
  "kernelspec": {
   "display_name": "Python 3.10.8 64-bit (microsoft store)",
   "language": "python",
   "name": "python3"
  },
  "language_info": {
   "codemirror_mode": {
    "name": "ipython",
    "version": 3
   },
   "file_extension": ".py",
   "mimetype": "text/x-python",
   "name": "python",
   "nbconvert_exporter": "python",
   "pygments_lexer": "ipython3",
   "version": "3.10.8"
  },
  "orig_nbformat": 4,
  "vscode": {
   "interpreter": {
    "hash": "74ce4e106c5f3fb5408a2b59926dbdd162e96cafe5f5c54fb66c999b373c7a81"
   }
  }
 },
 "nbformat": 4,
 "nbformat_minor": 2
}
