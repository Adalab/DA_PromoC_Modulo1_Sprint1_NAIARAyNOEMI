{
 "cells": [
  {
   "cell_type": "markdown",
   "metadata": {},
   "source": [
    "##PAIR PROGRAMMING 4 - DICCIONARIOS"
   ]
  },
  {
   "cell_type": "code",
   "execution_count": 5,
   "metadata": {},
   "outputs": [],
   "source": [
    "#1 - Nuestro diccionario estará compuesto por cuatro keys y cada una de las keys tendrá un value que será una lista que iremos construyendo\n",
    "#con inputs."
   ]
  },
  {
   "cell_type": "code",
   "execution_count": 9,
   "metadata": {},
   "outputs": [],
   "source": [
    "datos={\"nombre\":input(\"di_tres_nombres\").split(\",\"),\"apellido\":input(\"di_tres_apellidos\").split(\",\"),\"edad\":input(\"di_tres_edades\").split(\",\"),\"hijos\":input(\"numero_hijos\").split(\",\")}\n"
   ]
  },
  {
   "cell_type": "code",
   "execution_count": 10,
   "metadata": {},
   "outputs": [
    {
     "name": "stdout",
     "output_type": "stream",
     "text": [
      "{'nombre': ['maria', ' pepe', ' carmen'], 'apellido': ['perez', ' garcia', ' lopez'], 'edad': ['8', ' 17', ' 21'], 'hijos': ['2', ' 3', ' 5']}\n"
     ]
    }
   ],
   "source": [
    "print(datos)"
   ]
  },
  {
   "cell_type": "code",
   "execution_count": 11,
   "metadata": {},
   "outputs": [],
   "source": [
    "#2 - Una vez tengáis creado el diccionario, añadid una nueva key donde tengamos la información sobre el número de hermanos."
   ]
  },
  {
   "cell_type": "code",
   "execution_count": 12,
   "metadata": {},
   "outputs": [],
   "source": [
    "datos.update({\"hermanos\":[4,1,5]})"
   ]
  },
  {
   "cell_type": "code",
   "execution_count": 13,
   "metadata": {},
   "outputs": [
    {
     "name": "stdout",
     "output_type": "stream",
     "text": [
      "{'nombre': ['maria', ' pepe', ' carmen'], 'apellido': ['perez', ' garcia', ' lopez'], 'edad': ['8', ' 17', ' 21'], 'hijos': ['2', ' 3', ' 5'], 'hermanos': [4, 1, 5]}\n"
     ]
    }
   ],
   "source": [
    "print(datos)"
   ]
  },
  {
   "cell_type": "code",
   "execution_count": 3,
   "metadata": {},
   "outputs": [],
   "source": [
    "#3 - Extraed los valores de la key nombres. Utilizad dos métodos diferentes."
   ]
  },
  {
   "cell_type": "code",
   "execution_count": 14,
   "metadata": {},
   "outputs": [
    {
     "data": {
      "text/plain": [
       "{'nombre': ['maria', ' pepe', ' carmen'],\n",
       " 'apellido': ['perez', ' garcia', ' lopez'],\n",
       " 'edad': ['8', ' 17', ' 21'],\n",
       " 'hijos': ['2', ' 3', ' 5'],\n",
       " 'hermanos': [4, 1, 5]}"
      ]
     },
     "execution_count": 14,
     "metadata": {},
     "output_type": "execute_result"
    }
   ],
   "source": [
    "datos"
   ]
  },
  {
   "cell_type": "markdown",
   "metadata": {},
   "source": [
    "#Método 1"
   ]
  },
  {
   "cell_type": "code",
   "execution_count": 15,
   "metadata": {},
   "outputs": [
    {
     "data": {
      "text/plain": [
       "['maria', ' pepe', ' carmen']"
      ]
     },
     "execution_count": 15,
     "metadata": {},
     "output_type": "execute_result"
    }
   ],
   "source": [
    "datos.get(\"nombre\")"
   ]
  },
  {
   "cell_type": "markdown",
   "metadata": {},
   "source": [
    "#Método 2"
   ]
  },
  {
   "cell_type": "code",
   "execution_count": 16,
   "metadata": {},
   "outputs": [
    {
     "data": {
      "text/plain": [
       "['maria', ' pepe', ' carmen']"
      ]
     },
     "execution_count": 16,
     "metadata": {},
     "output_type": "execute_result"
    }
   ],
   "source": [
    "datos[\"nombre\"]"
   ]
  },
  {
   "cell_type": "code",
   "execution_count": null,
   "metadata": {},
   "outputs": [],
   "source": [
    "#4 - Extraed los valores de la key nacionalidad. En caso de que no exista, cread esa key con el value \"desconocida\"."
   ]
  },
  {
   "cell_type": "code",
   "execution_count": 17,
   "metadata": {},
   "outputs": [
    {
     "data": {
      "text/plain": [
       "{'nombre': ['maria', ' pepe', ' carmen'],\n",
       " 'apellido': ['perez', ' garcia', ' lopez'],\n",
       " 'edad': ['8', ' 17', ' 21'],\n",
       " 'hijos': ['2', ' 3', ' 5'],\n",
       " 'hermanos': [4, 1, 5],\n",
       " 'Nacionalidad': 'desconocida'}"
      ]
     },
     "execution_count": 17,
     "metadata": {},
     "output_type": "execute_result"
    }
   ],
   "source": [
    "datos.update({\"Nacionalidad\":\"desconocida\"})\n",
    "datos"
   ]
  },
  {
   "cell_type": "code",
   "execution_count": null,
   "metadata": {},
   "outputs": [],
   "source": [
    "#5 - Ordena los elementos del diccionario basandonos en las keys y los values. Esto nos devuelve una lista de tuplas.\n",
    "# Convertid esta lista de tuplas en diccionario."
   ]
  },
  {
   "cell_type": "code",
   "execution_count": 18,
   "metadata": {},
   "outputs": [
    {
     "data": {
      "text/plain": [
       "[('nombre', ['maria', ' pepe', ' carmen']),\n",
       " ('hijos', ['2', ' 3', ' 5']),\n",
       " ('hermanos', [4, 1, 5]),\n",
       " ('edad', ['8', ' 17', ' 21']),\n",
       " ('apellido', ['perez', ' garcia', ' lopez']),\n",
       " ('Nacionalidad', 'desconocida')]"
      ]
     },
     "execution_count": 18,
     "metadata": {},
     "output_type": "execute_result"
    }
   ],
   "source": [
    "sorted(datos.items(),reverse = True)"
   ]
  },
  {
   "cell_type": "code",
   "execution_count": 19,
   "metadata": {},
   "outputs": [
    {
     "data": {
      "text/plain": [
       "{'nombre': ['maria', ' pepe', ' carmen'],\n",
       " 'apellido': ['perez', ' garcia', ' lopez'],\n",
       " 'edad': ['8', ' 17', ' 21'],\n",
       " 'hijos': ['2', ' 3', ' 5'],\n",
       " 'hermanos': [4, 1, 5],\n",
       " 'Nacionalidad': 'desconocida'}"
      ]
     },
     "execution_count": 19,
     "metadata": {},
     "output_type": "execute_result"
    }
   ],
   "source": [
    "datos_dic = dict(datos)\n",
    "datos_dic"
   ]
  },
  {
   "cell_type": "code",
   "execution_count": 2,
   "metadata": {},
   "outputs": [],
   "source": [
    "#6 - Eliminad la key de \"nacionalidad\""
   ]
  },
  {
   "cell_type": "code",
   "execution_count": 20,
   "metadata": {},
   "outputs": [
    {
     "data": {
      "text/plain": [
       "{'nombre': ['maria', ' pepe', ' carmen'],\n",
       " 'apellido': ['perez', ' garcia', ' lopez'],\n",
       " 'edad': ['8', ' 17', ' 21'],\n",
       " 'hijos': ['2', ' 3', ' 5'],\n",
       " 'hermanos': [4, 1, 5]}"
      ]
     },
     "execution_count": 20,
     "metadata": {},
     "output_type": "execute_result"
    }
   ],
   "source": [
    "datos.pop(\"Nacionalidad\")\n",
    "datos"
   ]
  },
  {
   "cell_type": "code",
   "execution_count": 1,
   "metadata": {},
   "outputs": [],
   "source": [
    "#7 - Utilizando métodos de Python. ¿Qué persona tiene mayor número de hijos? ¿Y quién es la más joven?"
   ]
  },
  {
   "cell_type": "code",
   "execution_count": 21,
   "metadata": {},
   "outputs": [
    {
     "data": {
      "text/plain": [
       "'8'"
      ]
     },
     "execution_count": 21,
     "metadata": {},
     "output_type": "execute_result"
    }
   ],
   "source": [
    "max(datos[\"edad\"])\n"
   ]
  },
  {
   "cell_type": "code",
   "execution_count": 22,
   "metadata": {},
   "outputs": [
    {
     "data": {
      "text/plain": [
       "' 3'"
      ]
     },
     "execution_count": 22,
     "metadata": {},
     "output_type": "execute_result"
    }
   ],
   "source": [
    "min(datos[\"hijos\"])"
   ]
  }
 ],
 "metadata": {
  "kernelspec": {
   "display_name": "Python 3.10.8 64-bit (microsoft store)",
   "language": "python",
   "name": "python3"
  },
  "language_info": {
   "codemirror_mode": {
    "name": "ipython",
    "version": 3
   },
   "file_extension": ".py",
   "mimetype": "text/x-python",
   "name": "python",
   "nbconvert_exporter": "python",
   "pygments_lexer": "ipython3",
   "version": "3.10.8"
  },
  "orig_nbformat": 4,
  "vscode": {
   "interpreter": {
    "hash": "74ce4e106c5f3fb5408a2b59926dbdd162e96cafe5f5c54fb66c999b373c7a81"
   }
  }
 },
 "nbformat": 4,
 "nbformat_minor": 2
}
