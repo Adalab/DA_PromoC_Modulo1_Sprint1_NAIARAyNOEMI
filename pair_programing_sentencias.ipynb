{
 "cells": [
  {
   "cell_type": "markdown",
   "metadata": {},
   "source": [
    "#PAIR PROGRAMMING 6 - SENTENCIAS DE CONTROL"
   ]
  },
  {
   "cell_type": "code",
   "execution_count": 6,
   "metadata": {},
   "outputs": [],
   "source": [
    "#1 - El objetivo de este ejercicio es que le preguntéis al usuario por una nota (numérica)\n",
    "#y nosotros le devolvamos la nota con la letra que le corresponde.\n"
   ]
  },
  {
   "cell_type": "code",
   "execution_count": 7,
   "metadata": {},
   "outputs": [],
   "source": [
    "notas = int(input(\"¿Qué nota has sacado?\"))"
   ]
  },
  {
   "cell_type": "code",
   "execution_count": 8,
   "metadata": {},
   "outputs": [
    {
     "name": "stdout",
     "output_type": "stream",
     "text": [
      "B\n"
     ]
    }
   ],
   "source": [
    "if notas < 25:\n",
    "    print(\"F\")\n",
    "elif notas >= 25 and notas < 45:\n",
    "    print(\"E\")\n",
    "elif notas >= 45 and notas < 50:\n",
    "    print(\"D\")\n",
    "elif notas >= 50 and notas < 60:\n",
    "    print(\"C\")\n",
    "elif notas >= 60 and notas < 80:\n",
    "    print(\"B\")\n",
    "else:\n",
    "    print(\"A\")"
   ]
  },
  {
   "cell_type": "code",
   "execution_count": 9,
   "metadata": {},
   "outputs": [],
   "source": [
    "#2 - Cread tres inputs donde a cada uno de ellos le preguntéis su edad,\n",
    "#el objetivo del ejercicio es determinar quien es el más viejo y el más joven."
   ]
  },
  {
   "cell_type": "code",
   "execution_count": 10,
   "metadata": {},
   "outputs": [],
   "source": [
    "Maria = int(input(\"¿Cuántos años tienes?\"))\n",
    "Pepe = int(input(\"¿Qué edad tienes?\"))\n",
    "Kike = int(input(\"Dime tu edad\"))"
   ]
  },
  {
   "cell_type": "code",
   "execution_count": 11,
   "metadata": {},
   "outputs": [
    {
     "name": "stdout",
     "output_type": "stream",
     "text": [
      "34\n",
      "18\n",
      "7\n"
     ]
    }
   ],
   "source": [
    "print(Maria)\n",
    "print(Pepe)\n",
    "print(Kike)"
   ]
  },
  {
   "cell_type": "code",
   "execution_count": 13,
   "metadata": {},
   "outputs": [
    {
     "name": "stdout",
     "output_type": "stream",
     "text": [
      "Maria es la más mayor\n"
     ]
    }
   ],
   "source": [
    "if Maria > Pepe and Maria > Kike:\n",
    "    print(\"Maria es la más mayor\")\n",
    "elif Kike < Pepe and Kike < Maria:\n",
    "    print(\"Kike es el más pequeño\")\n",
    "elif Pepe > Maria and Pepe > Kike:\n",
    "    print(\"Pepe es el más mayor\")\n",
    "elif Kike > Pepe and Kike > Maria:\n",
    "    print(\"Kike es el más mayor\")\n",
    "elif Maria < Pepe and Maria < Kike:\n",
    "    print(\"Maria es la pequeña\")\n",
    "elif Pepe < Maria and Pepe < Kike:\n",
    "    print(\"Pepe es el más pequeño\")\n"
   ]
  },
  {
   "cell_type": "code",
   "execution_count": null,
   "metadata": {},
   "outputs": [],
   "source": [
    "#3 - Escribid un programa que pregunte el nombre del usuario a través de la función input(). \n",
    "# Si el nombre es \"Bond\" haced que imprima \"Bienvenido a bordo de 007\". \n",
    "# En caso contrario haced que imprima \"Buenos días NOMBRE\". (Reemplace NOMBRE por el nombre del usuario)."
   ]
  },
  {
   "cell_type": "code",
   "execution_count": 16,
   "metadata": {},
   "outputs": [],
   "source": [
    "nombre = input(\"Dígame su nombre, pasajero\")"
   ]
  },
  {
   "cell_type": "code",
   "execution_count": 17,
   "metadata": {},
   "outputs": [
    {
     "name": "stdout",
     "output_type": "stream",
     "text": [
      "Buenos días Paco\n"
     ]
    }
   ],
   "source": [
    "if nombre == \"Bond\":\n",
    "    print(\"Bienvenido a bordo de 007\")\n",
    "else:\n",
    "    print(\"Buenos días\", nombre)"
   ]
  },
  {
   "cell_type": "code",
   "execution_count": 17,
   "metadata": {},
   "outputs": [],
   "source": [
    "#4 - Crea una lista llamada \"masarboles\" que contenga el nombre de los países con más de 40.000 árboles por kilómetro cuadrado.\n",
    "\n",
    "tree = {\"Taiwan\": 69593,\n",
    "        \"Japan\": 49894, \n",
    "        \"Russia\": 41396, \n",
    "        \"Canada\": 36388, \n",
    "        \"Bulgaria\": 24987}"
   ]
  },
  {
   "cell_type": "code",
   "execution_count": 18,
   "metadata": {},
   "outputs": [],
   "source": [
    "masarboles = []"
   ]
  },
  {
   "cell_type": "code",
   "execution_count": 22,
   "metadata": {},
   "outputs": [
    {
     "data": {
      "text/plain": [
       "69593"
      ]
     },
     "execution_count": 22,
     "metadata": {},
     "output_type": "execute_result"
    }
   ],
   "source": [
    "tree[\"Taiwan\"]"
   ]
  },
  {
   "cell_type": "code",
   "execution_count": 30,
   "metadata": {},
   "outputs": [],
   "source": [
    "#5 - Los alumnos de un curso se han dividido en dos grupos A y B de acuerdo al sexo y el nombre.\n",
    "#El grupo A esta formado por las mujeres con un nombre anterior a la M y los hombres con un nombre posterior a la N y el grupo B por el resto.\n",
    "# scribid un programa que pregunte al usuario su nombre y sexo, y muestre por pantalla el grupo que le corresponde.\n",
    "\n",
    "nombre = list(input(\"Dime tu nombre\"))\n",
    "sexo = input(\"Dime tu sexo\")\n"
   ]
  },
  {
   "cell_type": "code",
   "execution_count": 28,
   "metadata": {},
   "outputs": [
    {
     "data": {
      "text/plain": [
       "['m', 'a', 'r', 'i', 'a']"
      ]
     },
     "execution_count": 28,
     "metadata": {},
     "output_type": "execute_result"
    }
   ],
   "source": [
    "nombre"
   ]
  },
  {
   "cell_type": "code",
   "execution_count": 29,
   "metadata": {},
   "outputs": [
    {
     "data": {
      "text/plain": [
       "'mujer'"
      ]
     },
     "execution_count": 29,
     "metadata": {},
     "output_type": "execute_result"
    }
   ],
   "source": [
    "sexo"
   ]
  },
  {
   "cell_type": "code",
   "execution_count": 31,
   "metadata": {},
   "outputs": [
    {
     "name": "stdout",
     "output_type": "stream",
     "text": [
      "Pertenece al grupo B\n"
     ]
    }
   ],
   "source": [
    "if nombre[0] <= \"m\" and sexo == \"mujer\":\n",
    "    print(\"Pertenece al grupo A\")\n",
    "elif nombre[0] >= \"n\" and sexo == \"hombre\":\n",
    "    print(\"Pertenece al grupo A\")\n",
    "else:\n",
    "    print(\"Pertenece al grupo B\")"
   ]
  },
  {
   "cell_type": "code",
   "execution_count": 8,
   "metadata": {},
   "outputs": [],
   "source": [
    "#6 - Escribid un programa que:"
   ]
  },
  {
   "cell_type": "code",
   "execution_count": 35,
   "metadata": {},
   "outputs": [],
   "source": [
    "lista_aux = []\n",
    "z = 0"
   ]
  },
  {
   "cell_type": "code",
   "execution_count": 37,
   "metadata": {},
   "outputs": [
    {
     "ename": "KeyboardInterrupt",
     "evalue": "",
     "output_type": "error",
     "traceback": [
      "\u001b[1;31m---------------------------------------------------------------------------\u001b[0m",
      "\u001b[1;31mKeyboardInterrupt\u001b[0m                         Traceback (most recent call last)",
      "Cell \u001b[1;32mIn [37], line 1\u001b[0m\n\u001b[1;32m----> 1\u001b[0m \u001b[39mwhile\u001b[39;00m z \u001b[39m<\u001b[39;49m \u001b[39m3\u001b[39;49m:\n\u001b[0;32m      2\u001b[0m     \u001b[39mif\u001b[39;00m z \u001b[39m==\u001b[39m \u001b[39m0\u001b[39m:\n\u001b[0;32m      3\u001b[0m         lista_aux\u001b[39m.\u001b[39mappend(z\u001b[39m-\u001b[39m\u001b[39m1\u001b[39m)\n",
      "\u001b[1;31mKeyboardInterrupt\u001b[0m: "
     ]
    }
   ],
   "source": [
    "while z < 3:\n",
    "    if z == 0:\n",
    "        lista_aux.append(z-1)\n",
    "    elif z == 1:\n",
    "        lista_aux.append(z-1)\n",
    "    else:\n",
    "        lista_aux.append(z+1)\n",
    "        break"
   ]
  },
  {
   "cell_type": "code",
   "execution_count": null,
   "metadata": {},
   "outputs": [],
   "source": [
    "# 7 -El objetivo de este ejercicio es añadir elementos a una lista utilizando el bucle while:"
   ]
  },
  {
   "cell_type": "code",
   "execution_count": 38,
   "metadata": {},
   "outputs": [],
   "source": [
    "lista_vacia = []\n",
    "valor = 0"
   ]
  },
  {
   "cell_type": "code",
   "execution_count": 40,
   "metadata": {},
   "outputs": [],
   "source": [
    "while len(lista_vacia) > 4 :\n",
    "    lista_vacia.append(valor + 1)\n",
    "    "
   ]
  },
  {
   "cell_type": "code",
   "execution_count": 41,
   "metadata": {},
   "outputs": [
    {
     "name": "stdout",
     "output_type": "stream",
     "text": [
      "[]\n"
     ]
    }
   ],
   "source": [
    "print(lista_vacia)"
   ]
  },
  {
   "cell_type": "code",
   "execution_count": 43,
   "metadata": {},
   "outputs": [],
   "source": [
    "#8 - El objetivo de este ejercicio es encontrar la suma de números en una lista usando el bucle while:"
   ]
  },
  {
   "cell_type": "code",
   "execution_count": 44,
   "metadata": {},
   "outputs": [],
   "source": [
    "i = 0\n",
    "lista = [23, 45, 12, 10, 25]\n",
    "suma = 0"
   ]
  },
  {
   "cell_type": "code",
   "execution_count": 47,
   "metadata": {},
   "outputs": [
    {
     "ename": "TypeError",
     "evalue": "'int' object is not subscriptable",
     "output_type": "error",
     "traceback": [
      "\u001b[1;31m---------------------------------------------------------------------------\u001b[0m",
      "\u001b[1;31mTypeError\u001b[0m                                 Traceback (most recent call last)",
      "Cell \u001b[1;32mIn [47], line 2\u001b[0m\n\u001b[0;32m      1\u001b[0m \u001b[39mwhile\u001b[39;00m i \u001b[39m<\u001b[39m \u001b[39mlen\u001b[39m(lista):\n\u001b[1;32m----> 2\u001b[0m     \u001b[39mlen\u001b[39;49m(lista)[\u001b[39m0\u001b[39;49m:\u001b[39m5\u001b[39;49m]\n",
      "\u001b[1;31mTypeError\u001b[0m: 'int' object is not subscriptable"
     ]
    }
   ],
   "source": [
    "while i < len(lista):\n",
    "    "
   ]
  }
 ],
 "metadata": {
  "kernelspec": {
   "display_name": "Python 3.10.8 64-bit (microsoft store)",
   "language": "python",
   "name": "python3"
  },
  "language_info": {
   "codemirror_mode": {
    "name": "ipython",
    "version": 3
   },
   "file_extension": ".py",
   "mimetype": "text/x-python",
   "name": "python",
   "nbconvert_exporter": "python",
   "pygments_lexer": "ipython3",
   "version": "3.10.8"
  },
  "orig_nbformat": 4,
  "vscode": {
   "interpreter": {
    "hash": "74ce4e106c5f3fb5408a2b59926dbdd162e96cafe5f5c54fb66c999b373c7a81"
   }
  }
 },
 "nbformat": 4,
 "nbformat_minor": 2
}
