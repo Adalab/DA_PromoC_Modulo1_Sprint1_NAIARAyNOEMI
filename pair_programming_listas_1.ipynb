{
 "cells": [
  {
   "cell_type": "code",
   "execution_count": 5,
   "metadata": {},
   "outputs": [
    {
     "name": "stdout",
     "output_type": "stream",
     "text": [
      "carlos, pepe, natalia\n"
     ]
    }
   ],
   "source": [
    "nombres_amigos = input(\"Dime el nombre de tres amigos\")\n",
    "print(nombres_amigos)"
   ]
  },
  {
   "cell_type": "code",
   "execution_count": 9,
   "metadata": {},
   "outputs": [
    {
     "name": "stdout",
     "output_type": "stream",
     "text": [
      "['carlos', 'pepe', 'natalia']\n"
     ]
    }
   ],
   "source": [
    "lista_nombres = nombres_amigos.split(\", \")\n",
    "print(lista_nombres)"
   ]
  },
  {
   "cell_type": "code",
   "execution_count": 10,
   "metadata": {},
   "outputs": [],
   "source": [
    "alturas_amigos = input(\"Dime la estatura de tus amigos\")"
   ]
  },
  {
   "cell_type": "code",
   "execution_count": 11,
   "metadata": {},
   "outputs": [
    {
     "name": "stdout",
     "output_type": "stream",
     "text": [
      "1.67, 1.87, 1.70\n"
     ]
    }
   ],
   "source": [
    "print(alturas_amigos)"
   ]
  },
  {
   "cell_type": "code",
   "execution_count": 13,
   "metadata": {},
   "outputs": [
    {
     "name": "stdout",
     "output_type": "stream",
     "text": [
      "['1.67', ' 1.87', ' 1.70']\n"
     ]
    }
   ],
   "source": [
    "lista_alturas = alturas_amigos.split(\",\")\n",
    "print(lista_alturas)"
   ]
  },
  {
   "cell_type": "code",
   "execution_count": 15,
   "metadata": {},
   "outputs": [
    {
     "name": "stdout",
     "output_type": "stream",
     "text": [
      "[1.67, 1.87, 1.7]\n"
     ]
    }
   ],
   "source": [
    "lista_alturas = [float(i) for i in lista_alturas]\n",
    "print(lista_alturas)"
   ]
  },
  {
   "cell_type": "code",
   "execution_count": 19,
   "metadata": {},
   "outputs": [
    {
     "name": "stdout",
     "output_type": "stream",
     "text": [
      "['pepe', 'natalia', 'carlos']\n"
     ]
    }
   ],
   "source": [
    "lista_nombres.sort(reverse=True)\n",
    "print(lista_nombres)"
   ]
  },
  {
   "cell_type": "code",
   "execution_count": 20,
   "metadata": {},
   "outputs": [
    {
     "name": "stdout",
     "output_type": "stream",
     "text": [
      "[1.87, 1.7, 1.67]\n"
     ]
    }
   ],
   "source": [
    "lista_alturas.sort(reverse=True)\n",
    "print(lista_alturas)"
   ]
  },
  {
   "cell_type": "code",
   "execution_count": 21,
   "metadata": {},
   "outputs": [
    {
     "data": {
      "text/plain": [
       "1.87"
      ]
     },
     "execution_count": 21,
     "metadata": {},
     "output_type": "execute_result"
    }
   ],
   "source": [
    "max(lista_alturas)"
   ]
  },
  {
   "cell_type": "code",
   "execution_count": 22,
   "metadata": {},
   "outputs": [
    {
     "data": {
      "text/plain": [
       "1.67"
      ]
     },
     "execution_count": 22,
     "metadata": {},
     "output_type": "execute_result"
    }
   ],
   "source": [
    "min(lista_alturas)"
   ]
  },
  {
   "cell_type": "code",
   "execution_count": 24,
   "metadata": {},
   "outputs": [],
   "source": [
    "lista1 = [44, 55, 67, 44, 98, 29]\n",
    "lista2 = [34, 56, 56, 78, 67, 56]\n",
    "\n",
    "lista_lista = [[44, 55, 67, 44, 98, 29], [34, 56, 56, 78, 67, 56]]"
   ]
  },
  {
   "cell_type": "code",
   "execution_count": 27,
   "metadata": {},
   "outputs": [
    {
     "name": "stdout",
     "output_type": "stream",
     "text": [
      "[[44, 55, 67, 44, 98, 29], [34, 56, 56, 78, 67, 56]]\n"
     ]
    }
   ],
   "source": [
    "lista_lista=[lista1, lista2]\n",
    "print(lista_lista)"
   ]
  },
  {
   "cell_type": "code",
   "execution_count": 28,
   "metadata": {},
   "outputs": [
    {
     "name": "stdout",
     "output_type": "stream",
     "text": [
      "[44, 55, 67, 44, 98, 29, 34, 56, 56, 78, 67, 56]\n"
     ]
    }
   ],
   "source": [
    "lista_numeros = lista1 + lista2\n",
    "print(lista_numeros)"
   ]
  },
  {
   "cell_type": "code",
   "execution_count": 34,
   "metadata": {},
   "outputs": [
    {
     "name": "stdout",
     "output_type": "stream",
     "text": [
      "0\n"
     ]
    }
   ],
   "source": [
    "print(lista_lista.count(67))"
   ]
  },
  {
   "cell_type": "code",
   "execution_count": 32,
   "metadata": {},
   "outputs": [
    {
     "name": "stdout",
     "output_type": "stream",
     "text": [
      "2\n"
     ]
    }
   ],
   "source": [
    "print(lista_numeros.count(67))"
   ]
  },
  {
   "cell_type": "code",
   "execution_count": null,
   "metadata": {},
   "outputs": [],
   "source": [
    "#En la lista_lista tenemos dos listas y el sistema no sabe donde buscar el número. En cambio, en la lista_numeros tenemos una única fila de números por lo que sí se puede encontrar."
   ]
  },
  {
   "cell_type": "code",
   "execution_count": 35,
   "metadata": {},
   "outputs": [
    {
     "name": "stdout",
     "output_type": "stream",
     "text": [
      "[56, 67, 78, 56, 56, 34, 29, 98, 44, 67, 55, 44]\n"
     ]
    }
   ],
   "source": [
    "lista_numeros.reverse()\n",
    "print(lista_numeros)"
   ]
  }
 ],
 "metadata": {
  "kernelspec": {
   "display_name": "Python 3.10.8 64-bit (microsoft store)",
   "language": "python",
   "name": "python3"
  },
  "language_info": {
   "codemirror_mode": {
    "name": "ipython",
    "version": 3
   },
   "file_extension": ".py",
   "mimetype": "text/x-python",
   "name": "python",
   "nbconvert_exporter": "python",
   "pygments_lexer": "ipython3",
   "version": "3.10.8"
  },
  "orig_nbformat": 4,
  "vscode": {
   "interpreter": {
    "hash": "74ce4e106c5f3fb5408a2b59926dbdd162e96cafe5f5c54fb66c999b373c7a81"
   }
  }
 },
 "nbformat": 4,
 "nbformat_minor": 2
}
